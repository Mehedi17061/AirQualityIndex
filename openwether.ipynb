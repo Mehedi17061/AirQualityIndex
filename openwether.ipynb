{
 "cells": [
  {
   "cell_type": "code",
   "execution_count": 3,
   "id": "5dc0fd61-6f8b-4495-8ca1-4312a67a43e6",
   "metadata": {},
   "outputs": [
    {
     "name": "stdout",
     "output_type": "stream",
     "text": [
      "http://api.openweathermap.org/data/2.5/air_pollution?lat=23.81&lon=90.41&appid=d3be85c2db06fcae928ad942e17ae560\n"
     ]
    }
   ],
   "source": [
    "import requests\n",
    "import csv\n",
    "api_key ='d3be85c2db06fcae928ad942e17ae560'\n",
    "city_name = \"berlin\"\n",
    "lat = 23.81\n",
    "lon = 90.41\n",
    "url =f\"http://api.openweathermap.org/data/2.5/air_pollution?lat={lat}&lon={lon}&appid={api_key}\"\n",
    "print(url)"
   ]
  },
  {
   "cell_type": "code",
   "execution_count": 19,
   "id": "649ca419-b540-474a-b2aa-b265a40ec243",
   "metadata": {},
   "outputs": [
    {
     "data": {
      "text/plain": [
       "{'coord': {'lon': 90.41, 'lat': 23.81},\n",
       " 'list': [{'main': {'aqi': 5},\n",
       "   'components': {'co': 413.9,\n",
       "    'no': 0.09,\n",
       "    'no2': 1.21,\n",
       "    'o3': 160.22,\n",
       "    'so2': 12.16,\n",
       "    'pm2_5': 78.15,\n",
       "    'pm10': 97.98,\n",
       "    'nh3': 6.21},\n",
       "   'dt': 1676191997}]}"
      ]
     },
     "execution_count": 19,
     "metadata": {},
     "output_type": "execute_result"
    }
   ],
   "source": [
    "req = requests.get(url)\n",
    "data = req.json()\n",
    "data\n"
   ]
  },
  {
   "cell_type": "code",
   "execution_count": 18,
   "id": "70398583-25aa-41b4-ac1f-ee1c26620751",
   "metadata": {},
   "outputs": [],
   "source": [
    "co = data['list'][0]['components']['co']\n",
    "no = data['list'][0]['components']['no']\n",
    "no2 = data['list'][0]['components']['no2']\n",
    "so2 = data['list'][0]['components']['so2']\n",
    "pm2_5 = data['list'][0]['components']['pm2_5']\n",
    "pm10 = data['list'][0]['components']['pm10']\n",
    "nh3 = data['list'][0]['components']['nh3']\n",
    "\n",
    "aqi_data =[co,no,no2,so2,pm2_5,pm10,nh3]\n",
    "with open(\"aqi.csv\", \"a\", newline=\"\") as csvfile:\n",
    "        fieldnames =[\"co\", \"no\", \"no2\", \"so2\", \"pm2_5\",\"pm10\",\"nh3\"]\n",
    "        writer = csv.DictWriter(csvfile, fieldnames=fieldnames)\n",
    "\n",
    "        writer.writeheader()\n",
    "        for i in range(1):\n",
    "            writer.writerow({fieldnames[0]: co, fieldnames[1]: no, fieldnames[2]: no2, fieldnames[3]: so2, fieldnames[4]: pm2_5,fieldnames[5]:pm10,fieldnames[6]:nh3})"
   ]
  },
  {
   "cell_type": "code",
   "execution_count": null,
   "id": "221715a0-af88-4834-8ff6-0a3fd2554bd2",
   "metadata": {},
   "outputs": [],
   "source": []
  }
 ],
 "metadata": {
  "kernelspec": {
   "display_name": "Python 3 (ipykernel)",
   "language": "python",
   "name": "python3"
  },
  "language_info": {
   "codemirror_mode": {
    "name": "ipython",
    "version": 3
   },
   "file_extension": ".py",
   "mimetype": "text/x-python",
   "name": "python",
   "nbconvert_exporter": "python",
   "pygments_lexer": "ipython3",
   "version": "3.9.13"
  }
 },
 "nbformat": 4,
 "nbformat_minor": 5
}
